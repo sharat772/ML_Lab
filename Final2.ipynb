{
 "cells": [
  {
   "cell_type": "code",
   "execution_count": 1,
   "id": "815eb605",
   "metadata": {},
   "outputs": [],
   "source": [
    "import pandas as pd\n",
    "import numpy as np"
   ]
  },
  {
   "cell_type": "code",
   "execution_count": 3,
   "id": "e53e206b",
   "metadata": {},
   "outputs": [],
   "source": [
    "data = pd.read_csv(\"C:/Users/shara/OneDrive/Desktop/ML LAB/movies.csv\")"
   ]
  },
  {
   "cell_type": "code",
   "execution_count": 9,
   "id": "43f97091",
   "metadata": {},
   "outputs": [
    {
     "data": {
      "text/plain": [
       "MOVIES         0\n",
       "YEAR         644\n",
       "GENRE         80\n",
       "RATING      1820\n",
       "ONE-LINE       0\n",
       "STARS          0\n",
       "VOTES       1820\n",
       "RunTime     2958\n",
       "Gross       9539\n",
       "dtype: int64"
      ]
     },
     "execution_count": 9,
     "metadata": {},
     "output_type": "execute_result"
    }
   ],
   "source": [
    "data.isnull().sum()"
   ]
  },
  {
   "cell_type": "code",
   "execution_count": 10,
   "id": "0ae44da7",
   "metadata": {},
   "outputs": [
    {
     "data": {
      "text/plain": [
       "9999"
      ]
     },
     "execution_count": 10,
     "metadata": {},
     "output_type": "execute_result"
    }
   ],
   "source": [
    "data_1 = data.dropna(axis=0,how=\"all\")\n",
    "len(data_1)\n",
    "# if all values are null"
   ]
  },
  {
   "cell_type": "code",
   "execution_count": 11,
   "id": "cf957658",
   "metadata": {},
   "outputs": [
    {
     "data": {
      "text/plain": [
       "460"
      ]
     },
     "execution_count": 11,
     "metadata": {},
     "output_type": "execute_result"
    }
   ],
   "source": [
    "data_1 = data.dropna(axis=0,how=\"any\")\n",
    "len(data_1)\n",
    "# when any value is null"
   ]
  },
  {
   "cell_type": "code",
   "execution_count": 13,
   "id": "441f536f",
   "metadata": {},
   "outputs": [
    {
     "data": {
      "text/plain": [
       "MOVIES      0\n",
       "YEAR        0\n",
       "GENRE       0\n",
       "RATING      0\n",
       "ONE-LINE    0\n",
       "STARS       0\n",
       "VOTES       0\n",
       "RunTime     0\n",
       "Gross       0\n",
       "dtype: int64"
      ]
     },
     "execution_count": 13,
     "metadata": {},
     "output_type": "execute_result"
    }
   ],
   "source": [
    "data_1.isnull().sum()"
   ]
  },
  {
   "cell_type": "code",
   "execution_count": 14,
   "id": "11812482",
   "metadata": {},
   "outputs": [
    {
     "data": {
      "text/plain": [
       "MOVIES         0\n",
       "YEAR         603\n",
       "GENRE          0\n",
       "RATING      1751\n",
       "ONE-LINE       0\n",
       "STARS          0\n",
       "VOTES       1751\n",
       "RunTime     2887\n",
       "Gross       9459\n",
       "dtype: int64"
      ]
     },
     "execution_count": 14,
     "metadata": {},
     "output_type": "execute_result"
    }
   ],
   "source": [
    "data_1 = data.dropna(axis=0,how=\"any\",subset=[\"GENRE\"])\n",
    "data_1.isnull().sum()"
   ]
  },
  {
   "cell_type": "code",
   "execution_count": 18,
   "id": "9449b6f1",
   "metadata": {},
   "outputs": [
    {
     "data": {
      "text/plain": [
       "MOVIES         0\n",
       "YEAR         644\n",
       "GENRE         80\n",
       "RATING      1820\n",
       "ONE-LINE       0\n",
       "STARS          0\n",
       "VOTES       1820\n",
       "RunTime     2958\n",
       "dtype: int64"
      ]
     },
     "execution_count": 18,
     "metadata": {},
     "output_type": "execute_result"
    }
   ],
   "source": [
    "data_1 = data.drop([\"Gross\"],axis=1)\n",
    "data_1.isnull().sum()"
   ]
  },
  {
   "cell_type": "code",
   "execution_count": 19,
   "id": "820b7be9",
   "metadata": {},
   "outputs": [
    {
     "data": {
      "text/plain": [
       "MOVIES         0\n",
       "YEAR         644\n",
       "GENRE         80\n",
       "RATING      1820\n",
       "ONE-LINE       0\n",
       "STARS          0\n",
       "VOTES          0\n",
       "RunTime     2958\n",
       "dtype: int64"
      ]
     },
     "execution_count": 19,
     "metadata": {},
     "output_type": "execute_result"
    }
   ],
   "source": [
    "data_1[\"VOTES\"] = data_1[\"VOTES\"].fillna(\"0\")\n",
    "data_1.isnull().sum()"
   ]
  },
  {
   "cell_type": "code",
   "execution_count": 22,
   "id": "e936018d",
   "metadata": {},
   "outputs": [
    {
     "name": "stdout",
     "output_type": "stream",
     "text": [
      "6.9\n"
     ]
    }
   ],
   "source": [
    "meanRT = data_1[\"RATING\"].mean()\n",
    "meanRT = round(meanRT,1)\n",
    "print(meanRT)"
   ]
  },
  {
   "cell_type": "code",
   "execution_count": 24,
   "id": "7cdfe091",
   "metadata": {},
   "outputs": [
    {
     "data": {
      "text/plain": [
       "MOVIES         0\n",
       "YEAR         644\n",
       "GENRE         80\n",
       "RATING         0\n",
       "ONE-LINE       0\n",
       "STARS          0\n",
       "VOTES          0\n",
       "RunTime     2958\n",
       "dtype: int64"
      ]
     },
     "execution_count": 24,
     "metadata": {},
     "output_type": "execute_result"
    }
   ],
   "source": [
    "data_1[\"RATING\"]= data_1[\"RATING\"].fillna(meanRT)\n",
    "data_1.isnull().sum()"
   ]
  },
  {
   "cell_type": "code",
   "execution_count": 25,
   "id": "2fe72523",
   "metadata": {},
   "outputs": [
    {
     "name": "stdout",
     "output_type": "stream",
     "text": [
      "68.7\n"
     ]
    },
    {
     "data": {
      "text/plain": [
       "MOVIES        0\n",
       "YEAR        644\n",
       "GENRE        80\n",
       "RATING        0\n",
       "ONE-LINE      0\n",
       "STARS         0\n",
       "VOTES         0\n",
       "RunTime       0\n",
       "dtype: int64"
      ]
     },
     "execution_count": 25,
     "metadata": {},
     "output_type": "execute_result"
    }
   ],
   "source": [
    "meanRunT = data_1[\"RunTime\"].mean()\n",
    "meanRunT = round(meanRunT,1)\n",
    "print(meanRunT)\n",
    "data_1[\"RunTime\"]= data_1[\"RunTime\"].fillna(meanRunT)\n",
    "data_1.isnull().sum()"
   ]
  },
  {
   "cell_type": "code",
   "execution_count": 26,
   "id": "a6501fc1",
   "metadata": {},
   "outputs": [
    {
     "data": {
      "text/plain": [
       "MOVIES        0\n",
       "YEAR        603\n",
       "GENRE         0\n",
       "RATING        0\n",
       "ONE-LINE      0\n",
       "STARS         0\n",
       "VOTES         0\n",
       "RunTime       0\n",
       "dtype: int64"
      ]
     },
     "execution_count": 26,
     "metadata": {},
     "output_type": "execute_result"
    }
   ],
   "source": [
    "data_1 = data_1.dropna(axis=0,how=\"any\",subset=[\"GENRE\"])\n",
    "data_1.isnull().sum()"
   ]
  },
  {
   "cell_type": "code",
   "execution_count": 27,
   "id": "505e785f",
   "metadata": {},
   "outputs": [
    {
     "data": {
      "text/plain": [
       "MOVIES      0\n",
       "YEAR        0\n",
       "GENRE       0\n",
       "RATING      0\n",
       "ONE-LINE    0\n",
       "STARS       0\n",
       "VOTES       0\n",
       "RunTime     0\n",
       "dtype: int64"
      ]
     },
     "execution_count": 27,
     "metadata": {},
     "output_type": "execute_result"
    }
   ],
   "source": [
    "data_1[\"YEAR\"] = data_1[\"YEAR\"].fillna(\"Before 2k\")\n",
    "data_1.isnull().sum()"
   ]
  }
 ],
 "metadata": {
  "kernelspec": {
   "display_name": "Python 3 (ipykernel)",
   "language": "python",
   "name": "python3"
  },
  "language_info": {
   "codemirror_mode": {
    "name": "ipython",
    "version": 3
   },
   "file_extension": ".py",
   "mimetype": "text/x-python",
   "name": "python",
   "nbconvert_exporter": "python",
   "pygments_lexer": "ipython3",
   "version": "3.9.7"
  }
 },
 "nbformat": 4,
 "nbformat_minor": 5
}
