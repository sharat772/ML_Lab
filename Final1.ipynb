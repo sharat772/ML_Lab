{
 "cells": [
  {
   "cell_type": "code",
   "execution_count": null,
   "id": "f7064577",
   "metadata": {},
   "outputs": [],
   "source": [
    "from urllib.request import urlopen\n",
    "from bs4 import BeautifulSoup as soup\n",
    "import requests\n",
    "import re\n",
    "import pandas as pd"
   ]
  },
  {
   "cell_type": "code",
   "execution_count": null,
   "id": "0a583a63",
   "metadata": {},
   "outputs": [],
   "source": [
    "hO=urlopen(\"https://www.flipkart.com/search?q=mobiles%20under%2040000&otracker=search&otracker1=search&marketplace=FLIPKART&as-show=on&as=off\")\n",
    "webdata=hO.read()"
   ]
  },
  {
   "cell_type": "code",
   "execution_count": null,
   "id": "50e6f381",
   "metadata": {},
   "outputs": [],
   "source": [
    "type(soup(webdata))\n",
    "soupdata=soup(webdata)"
   ]
  },
  {
   "cell_type": "code",
   "execution_count": null,
   "id": "544b1be1",
   "metadata": {},
   "outputs": [],
   "source": [
    "dir(soup(webdata))"
   ]
  },
  {
   "cell_type": "code",
   "execution_count": null,
   "id": "4e6391b7",
   "metadata": {},
   "outputs": [],
   "source": [
    "containers = soupdata.findAll('div',{'class':'_2kHMtA'})"
   ]
  },
  {
   "cell_type": "code",
   "execution_count": null,
   "id": "0f1f6e1c",
   "metadata": {},
   "outputs": [],
   "source": [
    "f=open('mobileInfo.csv','wb')\n",
    "for c in containers:\n",
    "    prodname = c.find('div',{'class':'_4rR01T'}).text.replace(',','')\n",
    "    stars = c.find('div',{'class':'_3LWZlK'}).text\n",
    "    rev_rat = c.find('span',{'class':'_2_R_DZ'}).text\n",
    "    rev = rev_rat.split()[3].replace(',','')\n",
    "    rat = rev_rat.split()[0].replace(',','')\n",
    "    curr_price = c.find('div',{'class':'_30jeq3 _1_WHN1'}).text.replace('₹','').replace(',','')\n",
    "    try:\n",
    "        mrp = c.find('div',{'class':'_3I9_wc _27UcVY'}).text.replace('₹','').replace(',','')\n",
    "    except:\n",
    "        mrp = curr_price\n",
    "    image_url = c.img.get('src')\n",
    "    f.write(f\"{prodname},{stars},{rev},{rat},{curr_price},{mrp},{image_url},\\n\".encode())\n",
    "f.close()"
   ]
  }
 ],
 "metadata": {
  "kernelspec": {
   "display_name": "Python 3 (ipykernel)",
   "language": "python",
   "name": "python3"
  },
  "language_info": {
   "codemirror_mode": {
    "name": "ipython",
    "version": 3
   },
   "file_extension": ".py",
   "mimetype": "text/x-python",
   "name": "python",
   "nbconvert_exporter": "python",
   "pygments_lexer": "ipython3",
   "version": "3.9.7"
  }
 },
 "nbformat": 4,
 "nbformat_minor": 5
}
